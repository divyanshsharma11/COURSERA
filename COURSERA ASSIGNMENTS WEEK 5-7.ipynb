{
 "cells": [
  {
   "cell_type": "markdown",
   "metadata": {},
   "source": [
    "# ASSIGNMENT 3.1 WEEK 5 "
   ]
  },
  {
   "cell_type": "code",
   "execution_count": 1,
   "metadata": {},
   "outputs": [
    {
     "name": "stdout",
     "output_type": "stream",
     "text": [
      "Enter Hours:45\n",
      "Enter the rate per hour:10.50\n",
      "498.75\n"
     ]
    }
   ],
   "source": [
    "#3.1 Assignment\n",
    "hrs = input(\"Enter Hours:\")\n",
    "h = float(hrs)\n",
    "rate = input(\"Enter the rate per hour:\")\n",
    "r = float(rate)\n",
    "if h < 40:\n",
    "    re= (h * r)\n",
    "else:\n",
    "    \n",
    "     pay = r * 40 + ( r * 1.5* (h - 40) )\n",
    "        \n",
    "print(pay)"
   ]
  },
  {
   "cell_type": "code",
   "execution_count": 2,
   "metadata": {},
   "outputs": [
    {
     "name": "stdout",
     "output_type": "stream",
     "text": [
      "Enter Score: 0.85\n",
      "B\n"
     ]
    }
   ],
   "source": [
    "#3.3 Assignment\n",
    "score = input(\"Enter Score: \")\n",
    "s = float(score)\n",
    "if s >= 0.9:\n",
    "    print('A')\n",
    "elif s >= 0.8:\n",
    "    print('B')\n",
    "elif s >= 0.7:\n",
    "    print('C')\n",
    "elif s >= 0.6:\n",
    "    print('D')    \n",
    "elif score < 0.6:\n",
    "    print('F')\n",
    "\n",
    "else:\n",
    "    print('Error! Enter a correct value ')\n",
    "    quit()\n",
    "    "
   ]
  },
  {
   "cell_type": "markdown",
   "metadata": {},
   "source": [
    "# WEEK 6 ASSIGNMENT "
   ]
  },
  {
   "cell_type": "code",
   "execution_count": 3,
   "metadata": {},
   "outputs": [
    {
     "name": "stdout",
     "output_type": "stream",
     "text": [
      "Enter Hours:45\n",
      "Enter rate:10.5\n",
      "Pay 498.75\n"
     ]
    }
   ],
   "source": [
    "#4.6 Assignment\n",
    "hrs = input(\"Enter Hours:\")\n",
    "h = float(hrs)\n",
    "rate = input(\"Enter rate:\")\n",
    "r = float(rate)\n",
    "def computepay(h,r):\n",
    "    if h < 40:\n",
    "        pay = (h * r)\n",
    "    else:\n",
    "        pay = (r*40)+(1.5*r*(h-40))\n",
    "    return pay   \n",
    "p = computepay(h,r)\n",
    "print(\"Pay\",p)"
   ]
  },
  {
   "cell_type": "markdown",
   "metadata": {},
   "source": [
    "# WEEK 7 ASSIGNMENT"
   ]
  },
  {
   "cell_type": "code",
   "execution_count": 13,
   "metadata": {},
   "outputs": [
    {
     "name": "stdout",
     "output_type": "stream",
     "text": [
      "Enter a number: 34\n",
      "Enter a number: 23\n",
      "Enter a number: 567\n",
      "Enter a number: 2\n",
      "Enter a number: 566\n",
      "Enter a number: 2\n",
      "Enter a number: 33\n",
      "Enter a number: 78\n",
      "Enter a number: 12\n",
      "Enter a number: done\n",
      "Maximum is 567\n",
      "Minimum is 2\n"
     ]
    }
   ],
   "source": [
    "#5.2 Assignment\n",
    "largest = 0\n",
    "smallest = 0\n",
    "\n",
    "while True:\n",
    "    inp = input(\"Enter a number: \")\n",
    "    if inp == \"done\" : break\n",
    "    try:\n",
    "        num = int(inp)\n",
    "    except:\n",
    "        print (\"Invalid input\")\n",
    "        continue\n",
    "    if smallest ==0:\n",
    "        smallest = num \n",
    "    if num >largest :\n",
    "        largest = num\n",
    "    elif num < smallest :\n",
    "        smallest = num\n",
    "print(\"Maximum is\", largest)\n",
    "print(\"Minimum is\", smallest)"
   ]
  }
 ],
 "metadata": {
  "kernelspec": {
   "display_name": "Python 3",
   "language": "python",
   "name": "python3"
  },
  "language_info": {
   "codemirror_mode": {
    "name": "ipython",
    "version": 3
   },
   "file_extension": ".py",
   "mimetype": "text/x-python",
   "name": "python",
   "nbconvert_exporter": "python",
   "pygments_lexer": "ipython3",
   "version": "3.7.4"
  }
 },
 "nbformat": 4,
 "nbformat_minor": 2
}
