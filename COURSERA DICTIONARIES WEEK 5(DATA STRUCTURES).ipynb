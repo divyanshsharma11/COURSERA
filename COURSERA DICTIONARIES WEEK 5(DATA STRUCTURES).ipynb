{
 "cells": [
  {
   "cell_type": "code",
   "execution_count": 3,
   "metadata": {},
   "outputs": [
    {
     "name": "stdout",
     "output_type": "stream",
     "text": [
      "{'csev': 2, 'cwen': 2, 'zqian': 1}\n"
     ]
    }
   ],
   "source": [
    "#METHOD 1\n",
    "counts = dict()\n",
    "names = ['csev','cwen','csev','zqian','cwen']\n",
    "for name in names:\n",
    "    if name not in counts:\n",
    "        counts[name] = 1\n",
    "    else:\n",
    "        counts[name]= counts[name]+1\n",
    "        \n",
    "print(counts)"
   ]
  },
  {
   "cell_type": "code",
   "execution_count": 33,
   "metadata": {},
   "outputs": [
    {
     "name": "stdout",
     "output_type": "stream",
     "text": [
      "{'csev': 2, 'cwen': 2, 'zqian': 1}\n"
     ]
    }
   ],
   "source": [
    "#METHOD 2 USING GET()\n",
    "counts = dict()\n",
    "names = ['csev','cwen','csev','zqian','cwen']\n",
    "for name in names:\n",
    "    counts[name] = counts.get(name,0) + 1\n",
    "print(counts)    "
   ]
  },
  {
   "cell_type": "code",
   "execution_count": 44,
   "metadata": {},
   "outputs": [
    {
     "name": "stdout",
     "output_type": "stream",
     "text": [
      "Enter a line:\n",
      "sfcefeve sj\n",
      "Words: ['sfcefeve', 'sj']\n",
      "Counting..........\n",
      "Counts {'sfcefeve': 1, 'sj': 1}\n"
     ]
    }
   ],
   "source": [
    "#COUNTING A PATTERN FROM A LINE\n",
    "counts = dict()\n",
    "print(\"Enter a line:\")\n",
    "line = input('')\n",
    "\n",
    "words = line.split()\n",
    "\n",
    "print('Words:',words)\n",
    "\n",
    "print(\"Counting..........\")\n",
    "for word in words:\n",
    "    counts[word]  = counts.get(word,0) + 1\n",
    "   \n",
    "print(\"Counts\",counts)"
   ]
  },
  {
   "cell_type": "markdown",
   "metadata": {},
   "source": [
    "# ASSIGNMENT 9.4"
   ]
  },
  {
   "cell_type": "code",
   "execution_count": null,
   "metadata": {},
   "outputs": [],
   "source": [
    "#9.4 Write a program to read through the mbox-short.txt and\n",
    "#figure out who has sent the greatest number of mail messages. \n",
    "#The program looks for 'From ' lines and takes the second word \n",
    "#of those lines as the person who sent the mail.\n",
    "#The program creates a Python dictionary that maps\n",
    "#the sender's mail address to a count of the number of times \n",
    "#they appear in the file. After the dictionary is produced,\n",
    "#the program reads through the dictionary using a maximum loop to\n",
    "#find the most prolific committer.\n",
    "\n",
    "\n",
    "\n",
    "name = input(\"Enter file:\")\n",
    "if len(name) < 1 : name = \"mbox-short.txt\"\n",
    "handle = open(name)\n",
    "emcount = dict()\n",
    "for line in handle:\n",
    "    if not line.startswith(\"From \"): continue\n",
    "    line = line.split()\n",
    "    line = line[1]\n",
    "    emcount[line] = emcount.get(line, 0) +1 \n",
    "bigcount = None\n",
    "bigword = None\n",
    "for word,count in emcount.items():\n",
    "    if bigcount == None or count > bigcount:\n",
    "        bigcount = count\n",
    "        bigword = word\n",
    "print(bigword, bigcount)"
   ]
  },
  {
   "cell_type": "code",
   "execution_count": null,
   "metadata": {},
   "outputs": [],
   "source": []
  }
 ],
 "metadata": {
  "kernelspec": {
   "display_name": "Python 3",
   "language": "python",
   "name": "python3"
  },
  "language_info": {
   "codemirror_mode": {
    "name": "ipython",
    "version": 3
   },
   "file_extension": ".py",
   "mimetype": "text/x-python",
   "name": "python",
   "nbconvert_exporter": "python",
   "pygments_lexer": "ipython3",
   "version": "3.7.4"
  }
 },
 "nbformat": 4,
 "nbformat_minor": 2
}
