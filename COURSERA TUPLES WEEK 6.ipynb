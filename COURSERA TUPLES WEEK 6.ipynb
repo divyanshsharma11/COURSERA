{
 "cells": [
  {
   "cell_type": "code",
   "execution_count": 8,
   "metadata": {},
   "outputs": [
    {
     "name": "stdout",
     "output_type": "stream",
     "text": [
      "a 10\n",
      "b 1\n",
      "c 22\n"
     ]
    }
   ],
   "source": [
    "#SORT BY KEY\n",
    "d = {'a': 10,'b': 1,'c':22}\n",
    "t = sorted(d.items())\n",
    "t\n",
    "for k,v in sorted(d.items()):\n",
    "    print(k,v)"
   ]
  },
  {
   "cell_type": "code",
   "execution_count": 13,
   "metadata": {},
   "outputs": [
    {
     "name": "stdout",
     "output_type": "stream",
     "text": [
      "[(10, 'c'), (4, 'b'), (32, 'a')]\n",
      "[(32, 'a'), (10, 'c'), (4, 'b')]\n"
     ]
    }
   ],
   "source": [
    "#SORT BY VALUE\n",
    "c = {'c':10,'b':4,'a':32 }\n",
    "tmp= list()\n",
    "for k,v in c.items():\n",
    "    tmp.append((v,k))\n",
    "   \n",
    "print(tmp)\n",
    "tmp=sorted(tmp,reverse=True)\n",
    "print(tmp)"
   ]
  },
  {
   "cell_type": "markdown",
   "metadata": {},
   "source": [
    "# THE TOP 10 MOST COMMON WORDS "
   ]
  },
  {
   "cell_type": "code",
   "execution_count": null,
   "metadata": {},
   "outputs": [],
   "source": [
    "#METHOD 1\n",
    "fhand = open('romeo.txt')\n",
    "counts = dict()\n",
    "for line in fhand:\n",
    "    words = fhand.split()\n",
    "    for word in words:\n",
    "        counts[word] = counts.get(word,0) + 1\n",
    "lst = list()\n",
    "for k,v in counts.item():\n",
    "    newtup = (v,k)\n",
    "    lst.append(newtup)\n",
    "   \n",
    "lst=sorted(lst,reverse=True)\n",
    "\n",
    "for v,k in lst[:10]:\n",
    "    print(k,v)"
   ]
  },
  {
   "cell_type": "code",
   "execution_count": 14,
   "metadata": {},
   "outputs": [
    {
     "name": "stdout",
     "output_type": "stream",
     "text": [
      "[(4, 'b'), (10, 'c'), (32, 'a')]\n"
     ]
    }
   ],
   "source": [
    "#METHOD 2(SHORTER VERSION)\n",
    "c = {'c':10,'b':4,'a':32 }\n",
    "\n",
    "print(sorted([(v,k) for k,v in c.items() ]))"
   ]
  },
  {
   "cell_type": "code",
   "execution_count": 22,
   "metadata": {},
   "outputs": [],
   "source": [
    "# READ ABOUT LIST COMPREHENSION"
   ]
  },
  {
   "cell_type": "code",
   "execution_count": 24,
   "metadata": {},
   "outputs": [
    {
     "data": {
      "text/plain": [
       "dict_items([('chuck', 1), ('fred', 42), ('jan', 100)])"
      ]
     },
     "execution_count": 24,
     "metadata": {},
     "output_type": "execute_result"
    }
   ],
   "source": [
    "x = { 'chuck' : 1 , 'fred' : 42, 'jan': 100}\n",
    "y = x.items()\n",
    "y"
   ]
  },
  {
   "cell_type": "code",
   "execution_count": 27,
   "metadata": {},
   "outputs": [
    {
     "data": {
      "text/plain": [
       "[(10, 'c'), (4, 'b'), (32, 'a')]"
      ]
     },
     "execution_count": 27,
     "metadata": {},
     "output_type": "execute_result"
    }
   ],
   "source": [
    "tmp = list()\n",
    "for k, v in c.items() :\n",
    "    tmp.append( (v, k) )\n",
    "tmp"
   ]
  },
  {
   "cell_type": "code",
   "execution_count": 32,
   "metadata": {},
   "outputs": [
    {
     "name": "stdout",
     "output_type": "stream",
     "text": [
      "Wed\n"
     ]
    }
   ],
   "source": [
    "days = ('Mon', 'Tue', 'Wed', 'Thu', 'Fri', 'Sat', 'Sun')\n",
    "print(days[2])"
   ]
  },
  {
   "cell_type": "markdown",
   "metadata": {},
   "source": [
    "# QUESTION\n",
    "10.2 Write a program to read through the mbox-short.txt and figure\n",
    "out the distribution by hour of the day for each of the messages.\n",
    "You can pull the hour out from the 'From ' line by finding the time and\n",
    "then splitting the string a second time using a colon.\n",
    "From stephen.marquard@uct.ac.za Sat Jan  5 09:14:16 2008\n",
    "Once you have accumulated the counts for each hour,\n",
    "print out the counts, sorted by hour as shown below."
   ]
  },
  {
   "cell_type": "code",
   "execution_count": null,
   "metadata": {},
   "outputs": [],
   "source": [
    "#ASSIGNMENT 10.2\n",
    "#ANSWER\n",
    "name = input(\"Enter file:\")\n",
    "if len(name) < 1 : name = \"mbox-short.txt\"\n",
    "handle = open(name)\n",
    "hours = {}\n",
    "for line in handle:\n",
    "    line = line.strip()\n",
    "    if line.find('From ') == 0:\n",
    "        hour_sent = line[line.find(':')-2:line.find(':')]\n",
    "\n",
    "        hours[hour_sent] = hours.get(hour_sent, 0) + 1\n",
    "tups = hours.items()  # get keys/values from hours as list of tuples\n",
    "tups.sort()  # sort by keys (first item in each tuple)\n",
    "for tup in tups:\n",
    "    print( tup[0], str(tup[1]))"
   ]
  }
 ],
 "metadata": {
  "kernelspec": {
   "display_name": "Python 3",
   "language": "python",
   "name": "python3"
  },
  "language_info": {
   "codemirror_mode": {
    "name": "ipython",
    "version": 3
   },
   "file_extension": ".py",
   "mimetype": "text/x-python",
   "name": "python",
   "nbconvert_exporter": "python",
   "pygments_lexer": "ipython3",
   "version": "3.7.4"
  }
 },
 "nbformat": 4,
 "nbformat_minor": 2
}
